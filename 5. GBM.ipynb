{
 "cells": [
  {
   "cell_type": "markdown",
   "metadata": {},
   "source": [
    "# 5. GBM(Gradient Boosting Machine)"
   ]
  },
  {
   "cell_type": "markdown",
   "metadata": {},
   "source": [
    "GBM의 개요 및 실습"
   ]
  },
  {
   "cell_type": "code",
   "execution_count": 3,
   "metadata": {},
   "outputs": [],
   "source": [
    "def get_new_feature_name_df(old_feature_name_df):\n",
    "    feature_dup_df=pd.DataFrame(data=old_feature_name_df.groupby('column_name').cumcount(), columns=['dup_cnt'])\n",
    "    feature_dup_df=feature_dup_df.reset_index()\n",
    "    new_feature_name_df=pd.merge(old_feature_name_df.reset_index(), feature_dup_df, how='outer')\n",
    "    new_feature_name_df['column_name']=new_feature_name_df[['column_name', 'dup_cnt']].apply(lambda x : str(x[0])+'_'+str(x[1]) \n",
    "                                                                                         if x[1] > 0 else x[0],  axis=1)\n",
    "    new_feature_name_df=new_feature_name_df.drop(['index'], axis=1)\n",
    "    return new_feature_name_df"
   ]
  },
  {
   "cell_type": "code",
   "execution_count": 4,
   "metadata": {},
   "outputs": [],
   "source": [
    "import pandas as pd\n",
    "\n",
    "def get_human_dataset():\n",
    "    \n",
    "    # 각 데이터 파일은 공백으로 분리되어 있으므로 read_csv에서 공백 문자를 sep으로 할당.\n",
    "    feature_name_df = pd.read_csv(\"features_info.txt\",sep='\\s+',\n",
    "                             header=None, names=['column_index', 'column_name'])\n",
    "    \n",
    "    # 중복된 feature명을 새롭게 수정하는 get_new_feature_name_df()를 이용하여 새로운 feature명 DataFrame생성. \n",
    "    new_feature_name_df = get_new_feature_name_df(feature_name_df)\n",
    "    \n",
    "    # DataFrame에 피처명을 컬럼으로 부여하기 위해 리스트 객체로 다시 변환.\n",
    "    feature_name = new_feature_name_df.iloc[:, 1].values.tolist()\n",
    "    \n",
    "    # 학습 피처 데이터세트와 테스트 피처 데이터를 Dataframe으로 로딩. 칼럼명은 feature_name 적용\n",
    "    X_train = pd.read_csv(\"train/X_train.txt\", sep='\\s+', header=None, names=feature_name)\n",
    "    X_test = pd.read_csv(\"test/X_test.txt\", sep='\\s+', header=None, names=feature_name)\n",
    "    \n",
    "    # 학습 레이블과 테스트 레이블 데이터를 Dataframe으로 로딩하고 칼럼명은 action으로 부여\n",
    "    y_train = pd.read_csv(\"train/y_train.txt\", sep='\\s+', header=None, names=['action'])\n",
    "    y_test = pd.read_csv(\"test/y_test.txt\", sep='\\s+', header=None, names=['action'])\n",
    "    \n",
    "    # 로드된 학습/테스트용 Dataframe을 모두 반환\n",
    "    return X_train, X_test, y_train, y_test\n",
    "    \n",
    "X_train, X_test, y_train, y_test = get_human_dataset()\n"
   ]
  },
  {
   "cell_type": "code",
   "execution_count": 5,
   "metadata": {
    "scrolled": true
   },
   "outputs": [
    {
     "name": "stdout",
     "output_type": "stream",
     "text": [
      "GBM 정확도: 0.845266\n",
      "GBM 수행시간: 84.8초\n"
     ]
    }
   ],
   "source": [
    "from sklearn.ensemble import GradientBoostingClassifier\n",
    "import time\n",
    "import warnings\n",
    "warnings.filterwarnings('ignore')\n",
    "from sklearn.metrics import accuracy_score\n",
    "\n",
    "X_train, X_test, y_train, y_test = get_human_dataset()\n",
    "\n",
    "#GBM 수행시간 측정을 위함. 시작 시간 설정\n",
    "start_time = time.time()\n",
    "\n",
    "gb_clf = GradientBoostingClassifier(random_state=0)\n",
    "gb_clf.fit(X_train, y_train)\n",
    "gb_pred = gb_clf.predict(X_test)\n",
    "gb_accuracy = accuracy_score(y_test, gb_pred)\n",
    "\n",
    "print('GBM 정확도: {0:4f}'.format(gb_accuracy))\n",
    "print('GBM 수행시간: {0:.1f}초'.format(time.time()-start_time))"
   ]
  },
  {
   "cell_type": "markdown",
   "metadata": {},
   "source": [
    "GBM 하이퍼 파라미터 및 튜닝"
   ]
  },
  {
   "cell_type": "code",
   "execution_count": 8,
   "metadata": {
    "scrolled": false
   },
   "outputs": [
    {
     "name": "stdout",
     "output_type": "stream",
     "text": [
      "Fitting 2 folds for each of 4 candidates, totalling 8 fits\n",
      "최적 하이퍼 파라미터:\n",
      " {'learning_rate': 0.1, 'n_estimators': 100}\n",
      "최고 예측 정확도: 0.8387\n"
     ]
    }
   ],
   "source": [
    "from sklearn.model_selection import GridSearchCV\n",
    "\n",
    "params = {\n",
    "    'n_estimators' : [100, 500],\n",
    "    'learning_rate' : [0.05, 0.1]\n",
    "}\n",
    "\n",
    "grid_cv = GridSearchCV(gb_clf, param_grid=params, cv=2, verbose=1)\n",
    "grid_cv.fit(X_train, y_train)\n",
    "\n",
    "print('최적 하이퍼 파라미터:\\n', grid_cv.best_params_)\n",
    "print('최고 예측 정확도: {0:.4f}'.format(grid_cv.best_score_))\n"
   ]
  },
  {
   "cell_type": "code",
   "execution_count": 13,
   "metadata": {},
   "outputs": [
    {
     "name": "stdout",
     "output_type": "stream",
     "text": [
      "GBM 정확도: 0.8473\n"
     ]
    }
   ],
   "source": [
    "# GridSearchCV를 이용하여 최적으로 학습된 estimator로 predict 수행. \n",
    "gb_pred = grid_cv.best_estimator_.predict(X_test)\n",
    "gb_accuracy = accuracy_score(y_test, gb_pred)\n",
    "print('GBM 정확도: {0:.4f}'.format(gb_accuracy))"
   ]
  },
  {
   "cell_type": "markdown",
   "metadata": {},
   "source": [
    "# 6. XGBoost(eXtra Gradient Boost)"
   ]
  },
  {
   "cell_type": "markdown",
   "metadata": {},
   "source": [
    "XGBoost 개요"
   ]
  },
  {
   "cell_type": "code",
   "execution_count": 2,
   "metadata": {},
   "outputs": [],
   "source": [
    "import xgboost as xgb\n",
    "from xgboost import plot_importance"
   ]
  },
  {
   "cell_type": "code",
   "execution_count": 3,
   "metadata": {},
   "outputs": [
    {
     "name": "stdout",
     "output_type": "stream",
     "text": [
      "0.90\n"
     ]
    }
   ],
   "source": [
    "import xgboost \n",
    "print(xgboost.__version__)"
   ]
  },
  {
   "cell_type": "markdown",
   "metadata": {},
   "source": [
    "파이썬 래퍼 XGBoost 적용 - 위스콘신 유방암 예측"
   ]
  },
  {
   "cell_type": "code",
   "execution_count": 16,
   "metadata": {},
   "outputs": [
    {
     "data": {
      "text/html": [
       "<div>\n",
       "<style scoped>\n",
       "    .dataframe tbody tr th:only-of-type {\n",
       "        vertical-align: middle;\n",
       "    }\n",
       "\n",
       "    .dataframe tbody tr th {\n",
       "        vertical-align: top;\n",
       "    }\n",
       "\n",
       "    .dataframe thead th {\n",
       "        text-align: right;\n",
       "    }\n",
       "</style>\n",
       "<table border=\"1\" class=\"dataframe\">\n",
       "  <thead>\n",
       "    <tr style=\"text-align: right;\">\n",
       "      <th></th>\n",
       "      <th>mean radius</th>\n",
       "      <th>mean texture</th>\n",
       "      <th>mean perimeter</th>\n",
       "      <th>mean area</th>\n",
       "      <th>mean smoothness</th>\n",
       "      <th>mean compactness</th>\n",
       "      <th>mean concavity</th>\n",
       "      <th>mean concave points</th>\n",
       "      <th>mean symmetry</th>\n",
       "      <th>mean fractal dimension</th>\n",
       "      <th>...</th>\n",
       "      <th>worst texture</th>\n",
       "      <th>worst perimeter</th>\n",
       "      <th>worst area</th>\n",
       "      <th>worst smoothness</th>\n",
       "      <th>worst compactness</th>\n",
       "      <th>worst concavity</th>\n",
       "      <th>worst concave points</th>\n",
       "      <th>worst symmetry</th>\n",
       "      <th>worst fractal dimension</th>\n",
       "      <th>target</th>\n",
       "    </tr>\n",
       "  </thead>\n",
       "  <tbody>\n",
       "    <tr>\n",
       "      <th>0</th>\n",
       "      <td>17.99</td>\n",
       "      <td>10.38</td>\n",
       "      <td>122.8</td>\n",
       "      <td>1001.0</td>\n",
       "      <td>0.11840</td>\n",
       "      <td>0.27760</td>\n",
       "      <td>0.3001</td>\n",
       "      <td>0.14710</td>\n",
       "      <td>0.2419</td>\n",
       "      <td>0.07871</td>\n",
       "      <td>...</td>\n",
       "      <td>17.33</td>\n",
       "      <td>184.6</td>\n",
       "      <td>2019.0</td>\n",
       "      <td>0.1622</td>\n",
       "      <td>0.6656</td>\n",
       "      <td>0.7119</td>\n",
       "      <td>0.2654</td>\n",
       "      <td>0.4601</td>\n",
       "      <td>0.11890</td>\n",
       "      <td>0</td>\n",
       "    </tr>\n",
       "    <tr>\n",
       "      <th>1</th>\n",
       "      <td>20.57</td>\n",
       "      <td>17.77</td>\n",
       "      <td>132.9</td>\n",
       "      <td>1326.0</td>\n",
       "      <td>0.08474</td>\n",
       "      <td>0.07864</td>\n",
       "      <td>0.0869</td>\n",
       "      <td>0.07017</td>\n",
       "      <td>0.1812</td>\n",
       "      <td>0.05667</td>\n",
       "      <td>...</td>\n",
       "      <td>23.41</td>\n",
       "      <td>158.8</td>\n",
       "      <td>1956.0</td>\n",
       "      <td>0.1238</td>\n",
       "      <td>0.1866</td>\n",
       "      <td>0.2416</td>\n",
       "      <td>0.1860</td>\n",
       "      <td>0.2750</td>\n",
       "      <td>0.08902</td>\n",
       "      <td>0</td>\n",
       "    </tr>\n",
       "    <tr>\n",
       "      <th>2</th>\n",
       "      <td>19.69</td>\n",
       "      <td>21.25</td>\n",
       "      <td>130.0</td>\n",
       "      <td>1203.0</td>\n",
       "      <td>0.10960</td>\n",
       "      <td>0.15990</td>\n",
       "      <td>0.1974</td>\n",
       "      <td>0.12790</td>\n",
       "      <td>0.2069</td>\n",
       "      <td>0.05999</td>\n",
       "      <td>...</td>\n",
       "      <td>25.53</td>\n",
       "      <td>152.5</td>\n",
       "      <td>1709.0</td>\n",
       "      <td>0.1444</td>\n",
       "      <td>0.4245</td>\n",
       "      <td>0.4504</td>\n",
       "      <td>0.2430</td>\n",
       "      <td>0.3613</td>\n",
       "      <td>0.08758</td>\n",
       "      <td>0</td>\n",
       "    </tr>\n",
       "  </tbody>\n",
       "</table>\n",
       "<p>3 rows × 31 columns</p>\n",
       "</div>"
      ],
      "text/plain": [
       "   mean radius  mean texture  mean perimeter  mean area  mean smoothness  \\\n",
       "0        17.99         10.38           122.8     1001.0          0.11840   \n",
       "1        20.57         17.77           132.9     1326.0          0.08474   \n",
       "2        19.69         21.25           130.0     1203.0          0.10960   \n",
       "\n",
       "   mean compactness  mean concavity  mean concave points  mean symmetry  \\\n",
       "0           0.27760          0.3001              0.14710         0.2419   \n",
       "1           0.07864          0.0869              0.07017         0.1812   \n",
       "2           0.15990          0.1974              0.12790         0.2069   \n",
       "\n",
       "   mean fractal dimension  ...  worst texture  worst perimeter  worst area  \\\n",
       "0                 0.07871  ...          17.33            184.6      2019.0   \n",
       "1                 0.05667  ...          23.41            158.8      1956.0   \n",
       "2                 0.05999  ...          25.53            152.5      1709.0   \n",
       "\n",
       "   worst smoothness  worst compactness  worst concavity  worst concave points  \\\n",
       "0            0.1622             0.6656           0.7119                0.2654   \n",
       "1            0.1238             0.1866           0.2416                0.1860   \n",
       "2            0.1444             0.4245           0.4504                0.2430   \n",
       "\n",
       "   worst symmetry  worst fractal dimension  target  \n",
       "0          0.4601                  0.11890       0  \n",
       "1          0.2750                  0.08902       0  \n",
       "2          0.3613                  0.08758       0  \n",
       "\n",
       "[3 rows x 31 columns]"
      ]
     },
     "execution_count": 16,
     "metadata": {},
     "output_type": "execute_result"
    }
   ],
   "source": [
    "import xgboost as xgb\n",
    "from xgboost import plot_importance\n",
    "import pandas as pd\n",
    "import numpy as np\n",
    "from sklearn.datasets import load_breast_cancer\n",
    "from sklearn.model_selection import train_test_split\n",
    "import warnings\n",
    "warnings.filterwarnings('ignore')\n",
    "\n",
    "dataset = load_breast_cancer()\n",
    "X_features = dataset.data\n",
    "y_label = dataset.target\n",
    "cancer_df = pd.DataFrame(data=X_features, columns=dataset.feature_names)\n",
    "cancer_df['target']=y_label\n",
    "cancer_df.head(3)"
   ]
  },
  {
   "cell_type": "code",
   "execution_count": 17,
   "metadata": {},
   "outputs": [
    {
     "name": "stdout",
     "output_type": "stream",
     "text": [
      "['malignant' 'benign']\n",
      "1    357\n",
      "0    212\n",
      "Name: target, dtype: int64\n"
     ]
    }
   ],
   "source": [
    "print(dataset.target_names)\n",
    "print(cancer_df['target'].value_counts())"
   ]
  },
  {
   "cell_type": "code",
   "execution_count": 18,
   "metadata": {},
   "outputs": [
    {
     "name": "stdout",
     "output_type": "stream",
     "text": [
      "(455, 30) (114, 30)\n"
     ]
    }
   ],
   "source": [
    "# 전체 데이터 중 80%는 학습용 데이터, 20%는 테스트용 데이터 추출\n",
    "X_train, X_test, y_train, y_test = train_test_split(X_features, y_label, test_size=0.2, random_state=156)\n",
    "print(X_train.shape, X_test.shape)"
   ]
  },
  {
   "cell_type": "code",
   "execution_count": 19,
   "metadata": {},
   "outputs": [],
   "source": [
    "dtrain = xgb.DMatrix(data=X_train, label=y_train)\n",
    "dtest = xgb.DMatrix(data=X_test, label=y_test)"
   ]
  },
  {
   "cell_type": "code",
   "execution_count": 20,
   "metadata": {},
   "outputs": [],
   "source": [
    "params = {\n",
    "    'max_depth':3,\n",
    "    'eta':0.1,\n",
    "    'objective':'binary:logistic',\n",
    "    'early_stoppings':100\n",
    "}\n",
    "num_rounds = 400"
   ]
  },
  {
   "cell_type": "code",
   "execution_count": 21,
   "metadata": {},
   "outputs": [
    {
     "name": "stdout",
     "output_type": "stream",
     "text": [
      "[0]\ttrain-error:0.030769\teval-error:0.052632\n",
      "Multiple eval metrics have been passed: 'eval-error' will be used for early stopping.\n",
      "\n",
      "Will train until eval-error hasn't improved in 100 rounds.\n",
      "[1]\ttrain-error:0.026374\teval-error:0.061404\n",
      "[2]\ttrain-error:0.017582\teval-error:0.052632\n",
      "[3]\ttrain-error:0.021978\teval-error:0.061404\n",
      "[4]\ttrain-error:0.013187\teval-error:0.052632\n",
      "[5]\ttrain-error:0.013187\teval-error:0.052632\n",
      "[6]\ttrain-error:0.013187\teval-error:0.052632\n",
      "[7]\ttrain-error:0.013187\teval-error:0.052632\n",
      "[8]\ttrain-error:0.013187\teval-error:0.052632\n",
      "[9]\ttrain-error:0.013187\teval-error:0.052632\n",
      "[10]\ttrain-error:0.015385\teval-error:0.052632\n",
      "[11]\ttrain-error:0.013187\teval-error:0.052632\n",
      "[12]\ttrain-error:0.015385\teval-error:0.052632\n",
      "[13]\ttrain-error:0.013187\teval-error:0.052632\n",
      "[14]\ttrain-error:0.010989\teval-error:0.052632\n",
      "[15]\ttrain-error:0.010989\teval-error:0.052632\n",
      "[16]\ttrain-error:0.008791\teval-error:0.052632\n",
      "[17]\ttrain-error:0.008791\teval-error:0.052632\n",
      "[18]\ttrain-error:0.008791\teval-error:0.052632\n",
      "[19]\ttrain-error:0.008791\teval-error:0.04386\n",
      "[20]\ttrain-error:0.008791\teval-error:0.04386\n",
      "[21]\ttrain-error:0.008791\teval-error:0.04386\n",
      "[22]\ttrain-error:0.008791\teval-error:0.04386\n",
      "[23]\ttrain-error:0.008791\teval-error:0.04386\n",
      "[24]\ttrain-error:0.008791\teval-error:0.04386\n",
      "[25]\ttrain-error:0.008791\teval-error:0.035088\n",
      "[26]\ttrain-error:0.006593\teval-error:0.035088\n",
      "[27]\ttrain-error:0.006593\teval-error:0.035088\n",
      "[28]\ttrain-error:0.006593\teval-error:0.035088\n",
      "[29]\ttrain-error:0.006593\teval-error:0.035088\n",
      "[30]\ttrain-error:0.006593\teval-error:0.035088\n",
      "[31]\ttrain-error:0.006593\teval-error:0.035088\n",
      "[32]\ttrain-error:0.006593\teval-error:0.035088\n",
      "[33]\ttrain-error:0.006593\teval-error:0.035088\n",
      "[34]\ttrain-error:0.006593\teval-error:0.035088\n",
      "[35]\ttrain-error:0.006593\teval-error:0.04386\n",
      "[36]\ttrain-error:0.006593\teval-error:0.04386\n",
      "[37]\ttrain-error:0.006593\teval-error:0.04386\n",
      "[38]\ttrain-error:0.006593\teval-error:0.04386\n",
      "[39]\ttrain-error:0.006593\teval-error:0.04386\n",
      "[40]\ttrain-error:0.006593\teval-error:0.04386\n",
      "[41]\ttrain-error:0.006593\teval-error:0.04386\n",
      "[42]\ttrain-error:0.004396\teval-error:0.04386\n",
      "[43]\ttrain-error:0.004396\teval-error:0.04386\n",
      "[44]\ttrain-error:0.004396\teval-error:0.04386\n",
      "[45]\ttrain-error:0.004396\teval-error:0.04386\n",
      "[46]\ttrain-error:0.004396\teval-error:0.04386\n",
      "[47]\ttrain-error:0.004396\teval-error:0.04386\n",
      "[48]\ttrain-error:0.004396\teval-error:0.04386\n",
      "[49]\ttrain-error:0.004396\teval-error:0.04386\n",
      "[50]\ttrain-error:0.004396\teval-error:0.04386\n",
      "[51]\ttrain-error:0.004396\teval-error:0.04386\n",
      "[52]\ttrain-error:0.004396\teval-error:0.04386\n",
      "[53]\ttrain-error:0.004396\teval-error:0.04386\n",
      "[54]\ttrain-error:0.004396\teval-error:0.04386\n",
      "[55]\ttrain-error:0.004396\teval-error:0.04386\n",
      "[56]\ttrain-error:0.004396\teval-error:0.04386\n",
      "[57]\ttrain-error:0.004396\teval-error:0.04386\n",
      "[58]\ttrain-error:0.004396\teval-error:0.04386\n",
      "[59]\ttrain-error:0.004396\teval-error:0.04386\n",
      "[60]\ttrain-error:0.002198\teval-error:0.04386\n",
      "[61]\ttrain-error:0.002198\teval-error:0.04386\n",
      "[62]\ttrain-error:0.002198\teval-error:0.04386\n",
      "[63]\ttrain-error:0.002198\teval-error:0.04386\n",
      "[64]\ttrain-error:0.002198\teval-error:0.04386\n",
      "[65]\ttrain-error:0.002198\teval-error:0.04386\n",
      "[66]\ttrain-error:0.002198\teval-error:0.04386\n",
      "[67]\ttrain-error:0\teval-error:0.04386\n",
      "[68]\ttrain-error:0\teval-error:0.04386\n",
      "[69]\ttrain-error:0\teval-error:0.04386\n",
      "[70]\ttrain-error:0\teval-error:0.04386\n",
      "[71]\ttrain-error:0\teval-error:0.04386\n",
      "[72]\ttrain-error:0\teval-error:0.04386\n",
      "[73]\ttrain-error:0\teval-error:0.04386\n",
      "[74]\ttrain-error:0\teval-error:0.04386\n",
      "[75]\ttrain-error:0\teval-error:0.04386\n",
      "[76]\ttrain-error:0\teval-error:0.04386\n",
      "[77]\ttrain-error:0\teval-error:0.04386\n",
      "[78]\ttrain-error:0\teval-error:0.04386\n",
      "[79]\ttrain-error:0\teval-error:0.04386\n",
      "[80]\ttrain-error:0\teval-error:0.04386\n",
      "[81]\ttrain-error:0\teval-error:0.04386\n",
      "[82]\ttrain-error:0\teval-error:0.04386\n",
      "[83]\ttrain-error:0\teval-error:0.04386\n",
      "[84]\ttrain-error:0\teval-error:0.04386\n",
      "[85]\ttrain-error:0\teval-error:0.04386\n",
      "[86]\ttrain-error:0\teval-error:0.04386\n",
      "[87]\ttrain-error:0\teval-error:0.04386\n",
      "[88]\ttrain-error:0\teval-error:0.04386\n",
      "[89]\ttrain-error:0\teval-error:0.04386\n",
      "[90]\ttrain-error:0\teval-error:0.04386\n",
      "[91]\ttrain-error:0\teval-error:0.04386\n",
      "[92]\ttrain-error:0\teval-error:0.04386\n",
      "[93]\ttrain-error:0\teval-error:0.04386\n",
      "[94]\ttrain-error:0\teval-error:0.04386\n",
      "[95]\ttrain-error:0\teval-error:0.04386\n",
      "[96]\ttrain-error:0\teval-error:0.04386\n",
      "[97]\ttrain-error:0\teval-error:0.04386\n",
      "[98]\ttrain-error:0\teval-error:0.04386\n",
      "[99]\ttrain-error:0\teval-error:0.04386\n",
      "[100]\ttrain-error:0\teval-error:0.04386\n",
      "[101]\ttrain-error:0\teval-error:0.04386\n",
      "[102]\ttrain-error:0\teval-error:0.04386\n",
      "[103]\ttrain-error:0\teval-error:0.04386\n",
      "[104]\ttrain-error:0\teval-error:0.04386\n",
      "[105]\ttrain-error:0\teval-error:0.04386\n",
      "[106]\ttrain-error:0\teval-error:0.04386\n",
      "[107]\ttrain-error:0\teval-error:0.04386\n",
      "[108]\ttrain-error:0\teval-error:0.04386\n",
      "[109]\ttrain-error:0\teval-error:0.04386\n",
      "[110]\ttrain-error:0\teval-error:0.04386\n",
      "[111]\ttrain-error:0\teval-error:0.04386\n",
      "[112]\ttrain-error:0\teval-error:0.04386\n",
      "[113]\ttrain-error:0\teval-error:0.04386\n",
      "[114]\ttrain-error:0\teval-error:0.04386\n",
      "[115]\ttrain-error:0\teval-error:0.04386\n",
      "[116]\ttrain-error:0\teval-error:0.04386\n",
      "[117]\ttrain-error:0\teval-error:0.04386\n",
      "[118]\ttrain-error:0\teval-error:0.04386\n",
      "[119]\ttrain-error:0\teval-error:0.035088\n",
      "[120]\ttrain-error:0\teval-error:0.035088\n",
      "[121]\ttrain-error:0\teval-error:0.04386\n",
      "[122]\ttrain-error:0\teval-error:0.04386\n",
      "[123]\ttrain-error:0\teval-error:0.04386\n",
      "[124]\ttrain-error:0\teval-error:0.04386\n",
      "[125]\ttrain-error:0\teval-error:0.035088\n",
      "Stopping. Best iteration:\n",
      "[25]\ttrain-error:0.008791\teval-error:0.035088\n",
      "\n"
     ]
    }
   ],
   "source": [
    "#train 데이터 세트는 'train', evaluation(test) 데이터 세트는 'eval'로 명기합니다.\n",
    "wlist = [(dtrain, 'train'), (dtest, 'eval')]\n",
    "#하이퍼 파라미터와 early stopping 파라미터를 train() 함수의 파라미터로 전달.\n",
    "xgb_model = xgb.train(params = params, dtrain=dtrain, num_boost_round=num_rounds, \\\n",
    "                     early_stopping_rounds=100, evals=wlist)"
   ]
  },
  {
   "cell_type": "code",
   "execution_count": 22,
   "metadata": {},
   "outputs": [
    {
     "name": "stdout",
     "output_type": "stream",
     "text": [
      "predict( ) 수행 결괏값을 10개만 표시, 예측 확률값으로 표시됨\n",
      "[0.875 0.003 0.934 0.173 0.987 1.    0.999 0.998 0.996 0.   ]\n",
      "예측값 10개만 표시 [1, 0, 1, 0, 1, 1, 1, 1, 1, 0]\n"
     ]
    }
   ],
   "source": [
    "pred_probs = xgb_model.predict(dtest)\n",
    "print('predict( ) 수행 결괏값을 10개만 표시, 예측 확률값으로 표시됨')\n",
    "print(np.round(pred_probs[:10], 3))\n",
    "\n",
    "#예측 확률이 0.5보다 크면 1, 그렇지 않으면 0으로 예측값 결정해 리스트 객체인 preds에 저장.\n",
    "preds = [1 if x>0.5 else 0 for x in pred_probs]\n",
    "print('예측값 10개만 표시',preds[:10])"
   ]
  },
  {
   "cell_type": "code",
   "execution_count": 3,
   "metadata": {},
   "outputs": [],
   "source": [
    "from sklearn.metrics import confusion_matrix, accuracy_score\n",
    "from sklearn.metrics import precision_score, recall_score\n",
    "from sklearn.metrics import f1_score, roc_auc_score\n",
    "\n",
    "def get_clf_eval(y_test, pred=None, pred_proba=None):\n",
    "    confusion = confusion_matrix( y_test, pred)\n",
    "    accuracy = accuracy_score(y_test , pred)\n",
    "    precision = precision_score(y_test , pred)\n",
    "    recall = recall_score(y_test , pred)\n",
    "    f1 = f1_score(y_test,pred)\n",
    "    # ROC-AUC 추가 \n",
    "    roc_auc = roc_auc_score(y_test, pred_proba)\n",
    "    print('오차 행렬')\n",
    "    print(confusion)\n",
    "    # ROC-AUC print 추가\n",
    "    print('정확도: {0:.4f}, 정밀도: {1:.4f}, 재현율: {2:.4f},\\\n",
    "    F1: {3:.4f}, AUC:{4:.4f}'.format(accuracy, precision, recall, f1, roc_auc))"
   ]
  },
  {
   "cell_type": "code",
   "execution_count": 25,
   "metadata": {
    "scrolled": false
   },
   "outputs": [
    {
     "name": "stdout",
     "output_type": "stream",
     "text": [
      "오차 행렬\n",
      "[[34  3]\n",
      " [ 1 76]]\n",
      "정확도: 0.9649, 정밀도: 0.9620, 재현율: 0.9870,    F1: 0.9744, AUC:0.9947\n"
     ]
    }
   ],
   "source": [
    "get_clf_eval(y_test, preds, pred_probs)"
   ]
  },
  {
   "cell_type": "code",
   "execution_count": 26,
   "metadata": {
    "scrolled": true
   },
   "outputs": [
    {
     "data": {
      "text/plain": [
       "<matplotlib.axes._subplots.AxesSubplot at 0x1f83cc62c08>"
      ]
     },
     "execution_count": 26,
     "metadata": {},
     "output_type": "execute_result"
    },
    {
     "data": {
      "image/png": "[encoded data removed]",
      "text/plain": [
       "<Figure size 720x864 with 1 Axes>"
      ]
     },
     "metadata": {
      "needs_background": "light"
     },
     "output_type": "display_data"
    }
   ],
   "source": [
    "from xgboost import plot_importance\n",
    "import matplotlib.pyplot as plt\n",
    "%matplotlib inline\n",
    "\n",
    "fig, ax = plt.subplots(figsize=(10,12))\n",
    "plot_importance(xgb_model, ax=ax)"
   ]
  },
  {
   "cell_type": "markdown",
   "metadata": {},
   "source": [
    "사이킷런 래퍼 XGBoost의 개요 및 적용"
   ]
  },
  {
   "cell_type": "code",
   "execution_count": 28,
   "metadata": {},
   "outputs": [],
   "source": [
    "#사이킷런 래퍼 XGBoost 클래스인 XGBClassifier 임포트\n",
    "from xgboost import XGBClassifier\n",
    "\n",
    "xgb_wrapper=XGBClassifier(n_estimators=400, learning_rate=0.1, max_depth=3)\n",
    "xgb_wrapper.fit(X_train, y_train)\n",
    "w_preds=xgb_wrapper.predict(X_test)\n",
    "w_pred_proba=xgb_wrapper.predict_proba(X_test)[:,1]"
   ]
  },
  {
   "cell_type": "code",
   "execution_count": 29,
   "metadata": {},
   "outputs": [
    {
     "name": "stdout",
     "output_type": "stream",
     "text": [
      "오차 행렬\n",
      "[[35  2]\n",
      " [ 1 76]]\n",
      "정확도: 0.9737, 정밀도: 0.9744, 재현율: 0.9870,    F1: 0.9806, AUC:0.9951\n"
     ]
    }
   ],
   "source": [
    "get_clf_eval(y_test, w_preds, w_pred_proba)"
   ]
  },
  {
   "cell_type": "code",
   "execution_count": 30,
   "metadata": {},
   "outputs": [
    {
     "name": "stdout",
     "output_type": "stream",
     "text": [
      "[0]\tvalidation_0-logloss:0.61352\n",
      "Will train until validation_0-logloss hasn't improved in 100 rounds.\n",
      "[1]\tvalidation_0-logloss:0.547842\n",
      "[2]\tvalidation_0-logloss:0.494247\n",
      "[3]\tvalidation_0-logloss:0.447986\n",
      "[4]\tvalidation_0-logloss:0.409109\n",
      "[5]\tvalidation_0-logloss:0.374977\n",
      "[6]\tvalidation_0-logloss:0.345714\n",
      "[7]\tvalidation_0-logloss:0.320529\n",
      "[8]\tvalidation_0-logloss:0.29721\n",
      "[9]\tvalidation_0-logloss:0.277991\n",
      "[10]\tvalidation_0-logloss:0.260302\n",
      "[11]\tvalidation_0-logloss:0.246037\n",
      "[12]\tvalidation_0-logloss:0.231556\n",
      "[13]\tvalidation_0-logloss:0.22005\n",
      "[14]\tvalidation_0-logloss:0.208572\n",
      "[15]\tvalidation_0-logloss:0.199993\n",
      "[16]\tvalidation_0-logloss:0.190118\n",
      "[17]\tvalidation_0-logloss:0.181818\n",
      "[18]\tvalidation_0-logloss:0.174729\n",
      "[19]\tvalidation_0-logloss:0.167657\n",
      "[20]\tvalidation_0-logloss:0.158202\n",
      "[21]\tvalidation_0-logloss:0.154725\n",
      "[22]\tvalidation_0-logloss:0.148947\n",
      "[23]\tvalidation_0-logloss:0.143308\n",
      "[24]\tvalidation_0-logloss:0.136344\n",
      "[25]\tvalidation_0-logloss:0.132778\n",
      "[26]\tvalidation_0-logloss:0.127912\n",
      "[27]\tvalidation_0-logloss:0.125263\n",
      "[28]\tvalidation_0-logloss:0.119978\n",
      "[29]\tvalidation_0-logloss:0.116412\n",
      "[30]\tvalidation_0-logloss:0.114502\n",
      "[31]\tvalidation_0-logloss:0.112572\n",
      "[32]\tvalidation_0-logloss:0.11154\n",
      "[33]\tvalidation_0-logloss:0.108681\n",
      "[34]\tvalidation_0-logloss:0.106681\n",
      "[35]\tvalidation_0-logloss:0.104207\n",
      "[36]\tvalidation_0-logloss:0.102962\n",
      "[37]\tvalidation_0-logloss:0.100576\n",
      "[38]\tvalidation_0-logloss:0.098683\n",
      "[39]\tvalidation_0-logloss:0.096444\n",
      "[40]\tvalidation_0-logloss:0.095869\n",
      "[41]\tvalidation_0-logloss:0.094242\n",
      "[42]\tvalidation_0-logloss:0.094715\n",
      "[43]\tvalidation_0-logloss:0.094272\n",
      "[44]\tvalidation_0-logloss:0.093894\n",
      "[45]\tvalidation_0-logloss:0.094184\n",
      "[46]\tvalidation_0-logloss:0.09402\n",
      "[47]\tvalidation_0-logloss:0.09236\n",
      "[48]\tvalidation_0-logloss:0.093012\n",
      "[49]\tvalidation_0-logloss:0.091272\n",
      "[50]\tvalidation_0-logloss:0.090051\n",
      "[51]\tvalidation_0-logloss:0.089605\n",
      "[52]\tvalidation_0-logloss:0.089577\n",
      "[53]\tvalidation_0-logloss:0.090703\n",
      "[54]\tvalidation_0-logloss:0.089579\n",
      "[55]\tvalidation_0-logloss:0.090357\n",
      "[56]\tvalidation_0-logloss:0.091587\n",
      "[57]\tvalidation_0-logloss:0.091527\n",
      "[58]\tvalidation_0-logloss:0.091986\n",
      "[59]\tvalidation_0-logloss:0.091951\n",
      "[60]\tvalidation_0-logloss:0.091939\n",
      "[61]\tvalidation_0-logloss:0.091461\n",
      "[62]\tvalidation_0-logloss:0.090311\n",
      "[63]\tvalidation_0-logloss:0.089407\n",
      "[64]\tvalidation_0-logloss:0.089719\n",
      "[65]\tvalidation_0-logloss:0.089743\n",
      "[66]\tvalidation_0-logloss:0.089622\n",
      "[67]\tvalidation_0-logloss:0.088734\n",
      "[68]\tvalidation_0-logloss:0.088621\n",
      "[69]\tvalidation_0-logloss:0.089739\n",
      "[70]\tvalidation_0-logloss:0.089981\n",
      "[71]\tvalidation_0-logloss:0.089782\n",
      "[72]\tvalidation_0-logloss:0.089584\n",
      "[73]\tvalidation_0-logloss:0.089533\n",
      "[74]\tvalidation_0-logloss:0.088748\n",
      "[75]\tvalidation_0-logloss:0.088597\n",
      "[76]\tvalidation_0-logloss:0.08812\n",
      "[77]\tvalidation_0-logloss:0.088396\n",
      "[78]\tvalidation_0-logloss:0.088736\n",
      "[79]\tvalidation_0-logloss:0.088153\n",
      "[80]\tvalidation_0-logloss:0.087577\n",
      "[81]\tvalidation_0-logloss:0.087412\n",
      "[82]\tvalidation_0-logloss:0.08849\n",
      "[83]\tvalidation_0-logloss:0.088575\n",
      "[84]\tvalidation_0-logloss:0.08807\n",
      "[85]\tvalidation_0-logloss:0.087641\n",
      "[86]\tvalidation_0-logloss:0.087416\n",
      "[87]\tvalidation_0-logloss:0.087611\n",
      "[88]\tvalidation_0-logloss:0.087065\n",
      "[89]\tvalidation_0-logloss:0.08727\n",
      "[90]\tvalidation_0-logloss:0.087161\n",
      "[91]\tvalidation_0-logloss:0.086962\n",
      "[92]\tvalidation_0-logloss:0.087166\n",
      "[93]\tvalidation_0-logloss:0.087067\n",
      "[94]\tvalidation_0-logloss:0.086592\n",
      "[95]\tvalidation_0-logloss:0.086116\n",
      "[96]\tvalidation_0-logloss:0.087139\n",
      "[97]\tvalidation_0-logloss:0.086768\n",
      "[98]\tvalidation_0-logloss:0.086694\n",
      "[99]\tvalidation_0-logloss:0.086547\n",
      "[100]\tvalidation_0-logloss:0.086498\n",
      "[101]\tvalidation_0-logloss:0.08641\n",
      "[102]\tvalidation_0-logloss:0.086288\n",
      "[103]\tvalidation_0-logloss:0.086258\n",
      "[104]\tvalidation_0-logloss:0.086835\n",
      "[105]\tvalidation_0-logloss:0.086767\n",
      "[106]\tvalidation_0-logloss:0.087321\n",
      "[107]\tvalidation_0-logloss:0.087304\n",
      "[108]\tvalidation_0-logloss:0.08728\n",
      "[109]\tvalidation_0-logloss:0.087298\n",
      "[110]\tvalidation_0-logloss:0.087289\n",
      "[111]\tvalidation_0-logloss:0.088002\n",
      "[112]\tvalidation_0-logloss:0.087936\n",
      "[113]\tvalidation_0-logloss:0.087843\n",
      "[114]\tvalidation_0-logloss:0.088066\n",
      "[115]\tvalidation_0-logloss:0.087649\n",
      "[116]\tvalidation_0-logloss:0.087298\n",
      "[117]\tvalidation_0-logloss:0.087799\n",
      "[118]\tvalidation_0-logloss:0.087751\n",
      "[119]\tvalidation_0-logloss:0.08768\n",
      "[120]\tvalidation_0-logloss:0.087626\n",
      "[121]\tvalidation_0-logloss:0.08757\n",
      "[122]\tvalidation_0-logloss:0.087547\n",
      "[123]\tvalidation_0-logloss:0.087156\n",
      "[124]\tvalidation_0-logloss:0.08767\n",
      "[125]\tvalidation_0-logloss:0.087737\n",
      "[126]\tvalidation_0-logloss:0.088275\n",
      "[127]\tvalidation_0-logloss:0.088309\n",
      "[128]\tvalidation_0-logloss:0.088266\n",
      "[129]\tvalidation_0-logloss:0.087886\n",
      "[130]\tvalidation_0-logloss:0.088861\n",
      "[131]\tvalidation_0-logloss:0.088675\n",
      "[132]\tvalidation_0-logloss:0.088743\n",
      "[133]\tvalidation_0-logloss:0.089218\n",
      "[134]\tvalidation_0-logloss:0.089179\n",
      "[135]\tvalidation_0-logloss:0.088821\n",
      "[136]\tvalidation_0-logloss:0.088512\n",
      "[137]\tvalidation_0-logloss:0.08848\n",
      "[138]\tvalidation_0-logloss:0.088386\n",
      "[139]\tvalidation_0-logloss:0.089145\n",
      "[140]\tvalidation_0-logloss:0.08911\n",
      "[141]\tvalidation_0-logloss:0.088765\n",
      "[142]\tvalidation_0-logloss:0.088678\n",
      "[143]\tvalidation_0-logloss:0.088389\n",
      "[144]\tvalidation_0-logloss:0.089271\n",
      "[145]\tvalidation_0-logloss:0.089238\n",
      "[146]\tvalidation_0-logloss:0.089139\n",
      "[147]\tvalidation_0-logloss:0.088907\n",
      "[148]\tvalidation_0-logloss:0.089416\n",
      "[149]\tvalidation_0-logloss:0.089388\n",
      "[150]\tvalidation_0-logloss:0.089108\n",
      "[151]\tvalidation_0-logloss:0.088735\n",
      "[152]\tvalidation_0-logloss:0.088717\n",
      "[153]\tvalidation_0-logloss:0.088484\n",
      "[154]\tvalidation_0-logloss:0.088471\n",
      "[155]\tvalidation_0-logloss:0.088545\n",
      "[156]\tvalidation_0-logloss:0.088521\n",
      "[157]\tvalidation_0-logloss:0.088547\n",
      "[158]\tvalidation_0-logloss:0.088275\n",
      "[159]\tvalidation_0-logloss:0.0883\n",
      "[160]\tvalidation_0-logloss:0.08828\n",
      "[161]\tvalidation_0-logloss:0.088013\n",
      "[162]\tvalidation_0-logloss:0.087758\n",
      "[163]\tvalidation_0-logloss:0.087784\n",
      "[164]\tvalidation_0-logloss:0.087777\n",
      "[165]\tvalidation_0-logloss:0.087517\n",
      "[166]\tvalidation_0-logloss:0.087542\n",
      "[167]\tvalidation_0-logloss:0.087642\n",
      "[168]\tvalidation_0-logloss:0.08739\n",
      "[169]\tvalidation_0-logloss:0.087377\n",
      "[170]\tvalidation_0-logloss:0.087298\n",
      "[171]\tvalidation_0-logloss:0.087368\n",
      "[172]\tvalidation_0-logloss:0.087395\n",
      "[173]\tvalidation_0-logloss:0.087385\n",
      "[174]\tvalidation_0-logloss:0.087132\n",
      "[175]\tvalidation_0-logloss:0.087159\n",
      "[176]\tvalidation_0-logloss:0.086955\n",
      "[177]\tvalidation_0-logloss:0.087053\n",
      "[178]\tvalidation_0-logloss:0.08697\n",
      "[179]\tvalidation_0-logloss:0.086973\n",
      "[180]\tvalidation_0-logloss:0.087038\n",
      "[181]\tvalidation_0-logloss:0.086799\n",
      "[182]\tvalidation_0-logloss:0.086826\n",
      "[183]\tvalidation_0-logloss:0.086582\n",
      "[184]\tvalidation_0-logloss:0.086588\n",
      "[185]\tvalidation_0-logloss:0.086614\n",
      "[186]\tvalidation_0-logloss:0.086372\n",
      "[187]\tvalidation_0-logloss:0.086369\n",
      "[188]\tvalidation_0-logloss:0.086297\n",
      "[189]\tvalidation_0-logloss:0.086104\n",
      "[190]\tvalidation_0-logloss:0.086023\n",
      "[191]\tvalidation_0-logloss:0.08605\n",
      "[192]\tvalidation_0-logloss:0.086149\n",
      "[193]\tvalidation_0-logloss:0.085916\n",
      "[194]\tvalidation_0-logloss:0.085915\n",
      "[195]\tvalidation_0-logloss:0.085984\n",
      "[196]\tvalidation_0-logloss:0.086012\n",
      "[197]\tvalidation_0-logloss:0.085922\n",
      "[198]\tvalidation_0-logloss:0.085853\n",
      "[199]\tvalidation_0-logloss:0.085874\n",
      "[200]\tvalidation_0-logloss:0.085888\n",
      "[201]\tvalidation_0-logloss:0.08595\n",
      "[202]\tvalidation_0-logloss:0.08573\n",
      "[203]\tvalidation_0-logloss:0.08573\n",
      "[204]\tvalidation_0-logloss:0.085753\n",
      "[205]\tvalidation_0-logloss:0.085821\n",
      "[206]\tvalidation_0-logloss:0.08584\n",
      "[207]\tvalidation_0-logloss:0.085776\n",
      "[208]\tvalidation_0-logloss:0.085686\n",
      "[209]\tvalidation_0-logloss:0.08571\n",
      "[210]\tvalidation_0-logloss:0.085806\n",
      "[211]\tvalidation_0-logloss:0.085593\n",
      "[212]\tvalidation_0-logloss:0.085801\n",
      "[213]\tvalidation_0-logloss:0.085806\n",
      "[214]\tvalidation_0-logloss:0.085744\n",
      "[215]\tvalidation_0-logloss:0.085658\n",
      "[216]\tvalidation_0-logloss:0.085843\n",
      "[217]\tvalidation_0-logloss:0.085632\n",
      "[218]\tvalidation_0-logloss:0.085726\n",
      "[219]\tvalidation_0-logloss:0.085783\n",
      "[220]\tvalidation_0-logloss:0.085791\n",
      "[221]\tvalidation_0-logloss:0.085817\n",
      "[222]\tvalidation_0-logloss:0.085757\n",
      "[223]\tvalidation_0-logloss:0.085674\n",
      "[224]\tvalidation_0-logloss:0.08586\n",
      "[225]\tvalidation_0-logloss:0.085871\n",
      "[226]\tvalidation_0-logloss:0.085927\n",
      "[227]\tvalidation_0-logloss:0.085954\n",
      "[228]\tvalidation_0-logloss:0.085874\n",
      "[229]\tvalidation_0-logloss:0.086057\n"
     ]
    },
    {
     "name": "stdout",
     "output_type": "stream",
     "text": [
      "[230]\tvalidation_0-logloss:0.086002\n",
      "[231]\tvalidation_0-logloss:0.085922\n",
      "[232]\tvalidation_0-logloss:0.086102\n",
      "[233]\tvalidation_0-logloss:0.086115\n",
      "[234]\tvalidation_0-logloss:0.086169\n",
      "[235]\tvalidation_0-logloss:0.086263\n",
      "[236]\tvalidation_0-logloss:0.086292\n",
      "[237]\tvalidation_0-logloss:0.086217\n",
      "[238]\tvalidation_0-logloss:0.086395\n",
      "[239]\tvalidation_0-logloss:0.086342\n",
      "[240]\tvalidation_0-logloss:0.08618\n",
      "[241]\tvalidation_0-logloss:0.086195\n",
      "[242]\tvalidation_0-logloss:0.086248\n",
      "[243]\tvalidation_0-logloss:0.086263\n",
      "[244]\tvalidation_0-logloss:0.086293\n",
      "[245]\tvalidation_0-logloss:0.086222\n",
      "[246]\tvalidation_0-logloss:0.086398\n",
      "[247]\tvalidation_0-logloss:0.086347\n",
      "[248]\tvalidation_0-logloss:0.086276\n",
      "[249]\tvalidation_0-logloss:0.086448\n",
      "[250]\tvalidation_0-logloss:0.086294\n",
      "[251]\tvalidation_0-logloss:0.086312\n",
      "[252]\tvalidation_0-logloss:0.086364\n",
      "[253]\tvalidation_0-logloss:0.086394\n",
      "[254]\tvalidation_0-logloss:0.08649\n",
      "[255]\tvalidation_0-logloss:0.086441\n",
      "[256]\tvalidation_0-logloss:0.08629\n",
      "[257]\tvalidation_0-logloss:0.08646\n",
      "[258]\tvalidation_0-logloss:0.086391\n",
      "[259]\tvalidation_0-logloss:0.086441\n",
      "[260]\tvalidation_0-logloss:0.086461\n",
      "[261]\tvalidation_0-logloss:0.086491\n",
      "[262]\tvalidation_0-logloss:0.086445\n",
      "[263]\tvalidation_0-logloss:0.086466\n",
      "[264]\tvalidation_0-logloss:0.086319\n",
      "[265]\tvalidation_0-logloss:0.086488\n",
      "[266]\tvalidation_0-logloss:0.086538\n",
      "[267]\tvalidation_0-logloss:0.086471\n",
      "[268]\tvalidation_0-logloss:0.086501\n",
      "[269]\tvalidation_0-logloss:0.086522\n",
      "[270]\tvalidation_0-logloss:0.086689\n",
      "[271]\tvalidation_0-logloss:0.086738\n",
      "[272]\tvalidation_0-logloss:0.08683\n",
      "[273]\tvalidation_0-logloss:0.086684\n",
      "[274]\tvalidation_0-logloss:0.08664\n",
      "[275]\tvalidation_0-logloss:0.086496\n",
      "[276]\tvalidation_0-logloss:0.086355\n",
      "[277]\tvalidation_0-logloss:0.086519\n",
      "[278]\tvalidation_0-logloss:0.086567\n",
      "[279]\tvalidation_0-logloss:0.08659\n",
      "[280]\tvalidation_0-logloss:0.086679\n",
      "[281]\tvalidation_0-logloss:0.086637\n",
      "[282]\tvalidation_0-logloss:0.086499\n",
      "[283]\tvalidation_0-logloss:0.086356\n",
      "[284]\tvalidation_0-logloss:0.086405\n",
      "[285]\tvalidation_0-logloss:0.086429\n",
      "[286]\tvalidation_0-logloss:0.086456\n",
      "[287]\tvalidation_0-logloss:0.086504\n",
      "[288]\tvalidation_0-logloss:0.08637\n",
      "[289]\tvalidation_0-logloss:0.086457\n",
      "[290]\tvalidation_0-logloss:0.086453\n",
      "[291]\tvalidation_0-logloss:0.086322\n",
      "[292]\tvalidation_0-logloss:0.086284\n",
      "[293]\tvalidation_0-logloss:0.086148\n",
      "[294]\tvalidation_0-logloss:0.086196\n",
      "[295]\tvalidation_0-logloss:0.086221\n",
      "[296]\tvalidation_0-logloss:0.086308\n",
      "[297]\tvalidation_0-logloss:0.086178\n",
      "[298]\tvalidation_0-logloss:0.086263\n",
      "[299]\tvalidation_0-logloss:0.086131\n",
      "[300]\tvalidation_0-logloss:0.086179\n",
      "[301]\tvalidation_0-logloss:0.086052\n",
      "[302]\tvalidation_0-logloss:0.086016\n",
      "[303]\tvalidation_0-logloss:0.086101\n",
      "[304]\tvalidation_0-logloss:0.085977\n",
      "[305]\tvalidation_0-logloss:0.086059\n",
      "[306]\tvalidation_0-logloss:0.085971\n",
      "[307]\tvalidation_0-logloss:0.085998\n",
      "[308]\tvalidation_0-logloss:0.085999\n",
      "[309]\tvalidation_0-logloss:0.085877\n",
      "[310]\tvalidation_0-logloss:0.085923\n",
      "[311]\tvalidation_0-logloss:0.085948\n",
      "Stopping. Best iteration:\n",
      "[211]\tvalidation_0-logloss:0.085593\n",
      "\n"
     ]
    }
   ],
   "source": [
    "# 조기중단 수행\n",
    "from xgboost import XGBClassifier\n",
    "\n",
    "xgb_wrapper=XGBClassifier(n_estimators=400, learning_rate=0.1, max_depth=3)\n",
    "evals=[(X_test, y_test)]\n",
    "xgb_wrapper.fit(X_train, y_train, early_stopping_rounds=100, eval_metric='logloss', eval_set=evals, verbose=True)\n",
    "ws100_preds=xgb_wrapper.predict(X_test)\n",
    "we100_pred_proba=xgb_wrapper.predict_proba(X_test)[:,1]"
   ]
  },
  {
   "cell_type": "code",
   "execution_count": 31,
   "metadata": {},
   "outputs": [
    {
     "name": "stdout",
     "output_type": "stream",
     "text": [
      "오차 행렬\n",
      "[[34  3]\n",
      " [ 1 76]]\n",
      "정확도: 0.9649, 정밀도: 0.9620, 재현율: 0.9870,    F1: 0.9744, AUC:0.9954\n"
     ]
    }
   ],
   "source": [
    "get_clf_eval(y_test, ws100_preds, we100_pred_proba)"
   ]
  },
  {
   "cell_type": "code",
   "execution_count": 32,
   "metadata": {},
   "outputs": [
    {
     "name": "stdout",
     "output_type": "stream",
     "text": [
      "[0]\tvalidation_0-logloss:0.61352\n",
      "Will train until validation_0-logloss hasn't improved in 10 rounds.\n",
      "[1]\tvalidation_0-logloss:0.547842\n",
      "[2]\tvalidation_0-logloss:0.494247\n",
      "[3]\tvalidation_0-logloss:0.447986\n",
      "[4]\tvalidation_0-logloss:0.409109\n",
      "[5]\tvalidation_0-logloss:0.374977\n",
      "[6]\tvalidation_0-logloss:0.345714\n",
      "[7]\tvalidation_0-logloss:0.320529\n",
      "[8]\tvalidation_0-logloss:0.29721\n",
      "[9]\tvalidation_0-logloss:0.277991\n",
      "[10]\tvalidation_0-logloss:0.260302\n",
      "[11]\tvalidation_0-logloss:0.246037\n",
      "[12]\tvalidation_0-logloss:0.231556\n",
      "[13]\tvalidation_0-logloss:0.22005\n",
      "[14]\tvalidation_0-logloss:0.208572\n",
      "[15]\tvalidation_0-logloss:0.199993\n",
      "[16]\tvalidation_0-logloss:0.190118\n",
      "[17]\tvalidation_0-logloss:0.181818\n",
      "[18]\tvalidation_0-logloss:0.174729\n",
      "[19]\tvalidation_0-logloss:0.167657\n",
      "[20]\tvalidation_0-logloss:0.158202\n",
      "[21]\tvalidation_0-logloss:0.154725\n",
      "[22]\tvalidation_0-logloss:0.148947\n",
      "[23]\tvalidation_0-logloss:0.143308\n",
      "[24]\tvalidation_0-logloss:0.136344\n",
      "[25]\tvalidation_0-logloss:0.132778\n",
      "[26]\tvalidation_0-logloss:0.127912\n",
      "[27]\tvalidation_0-logloss:0.125263\n",
      "[28]\tvalidation_0-logloss:0.119978\n",
      "[29]\tvalidation_0-logloss:0.116412\n",
      "[30]\tvalidation_0-logloss:0.114502\n",
      "[31]\tvalidation_0-logloss:0.112572\n",
      "[32]\tvalidation_0-logloss:0.11154\n",
      "[33]\tvalidation_0-logloss:0.108681\n",
      "[34]\tvalidation_0-logloss:0.106681\n",
      "[35]\tvalidation_0-logloss:0.104207\n",
      "[36]\tvalidation_0-logloss:0.102962\n",
      "[37]\tvalidation_0-logloss:0.100576\n",
      "[38]\tvalidation_0-logloss:0.098683\n",
      "[39]\tvalidation_0-logloss:0.096444\n",
      "[40]\tvalidation_0-logloss:0.095869\n",
      "[41]\tvalidation_0-logloss:0.094242\n",
      "[42]\tvalidation_0-logloss:0.094715\n",
      "[43]\tvalidation_0-logloss:0.094272\n",
      "[44]\tvalidation_0-logloss:0.093894\n",
      "[45]\tvalidation_0-logloss:0.094184\n",
      "[46]\tvalidation_0-logloss:0.09402\n",
      "[47]\tvalidation_0-logloss:0.09236\n",
      "[48]\tvalidation_0-logloss:0.093012\n",
      "[49]\tvalidation_0-logloss:0.091272\n",
      "[50]\tvalidation_0-logloss:0.090051\n",
      "[51]\tvalidation_0-logloss:0.089605\n",
      "[52]\tvalidation_0-logloss:0.089577\n",
      "[53]\tvalidation_0-logloss:0.090703\n",
      "[54]\tvalidation_0-logloss:0.089579\n",
      "[55]\tvalidation_0-logloss:0.090357\n",
      "[56]\tvalidation_0-logloss:0.091587\n",
      "[57]\tvalidation_0-logloss:0.091527\n",
      "[58]\tvalidation_0-logloss:0.091986\n",
      "[59]\tvalidation_0-logloss:0.091951\n",
      "[60]\tvalidation_0-logloss:0.091939\n",
      "[61]\tvalidation_0-logloss:0.091461\n",
      "[62]\tvalidation_0-logloss:0.090311\n",
      "Stopping. Best iteration:\n",
      "[52]\tvalidation_0-logloss:0.089577\n",
      "\n",
      "오차 행렬\n",
      "[[34  3]\n",
      " [ 2 75]]\n",
      "정확도: 0.9561, 정밀도: 0.9615, 재현율: 0.9740,    F1: 0.9677, AUC:0.9947\n"
     ]
    }
   ],
   "source": [
    "# 조기 중단값을 너무 급격하게 줄이면 예측 성능이 저하될수도 있다.--> early_stopping_rounds를 작게잡아서 위 학습과 비교해본다.\n",
    "xgb_wrapper.fit(X_train, y_train, early_stopping_rounds=10, eval_metric='logloss', eval_set=evals, verbose=True)\n",
    "\n",
    "ws10_preds=xgb_wrapper.predict(X_test)\n",
    "ws10_pred_proba=xgb_wrapper.predict_proba(X_test)[:,1]\n",
    "get_clf_eval(y_test, ws10_preds, ws10_pred_proba)"
   ]
  },
  {
   "cell_type": "code",
   "execution_count": 33,
   "metadata": {},
   "outputs": [
    {
     "data": {
      "text/plain": [
       "<matplotlib.axes._subplots.AxesSubplot at 0x1f83db486c8>"
      ]
     },
     "execution_count": 33,
     "metadata": {},
     "output_type": "execute_result"
    },
    {
     "data": {
      "image/png": "[encoded data removed]",
      "text/plain": [
       "<Figure size 720x864 with 1 Axes>"
      ]
     },
     "metadata": {
      "needs_background": "light"
     },
     "output_type": "display_data"
    }
   ],
   "source": [
    "from xgboost import plot_importance\n",
    "import matplotlib.pyplot as plt\n",
    "%matplotlib inline\n",
    "\n",
    "fig,ax=plt.subplots(figsize=(10,12))\n",
    "plot_importance(xgb_wrapper, ax=ax) "
   ]
  },
  {
   "cell_type": "markdown",
   "metadata": {},
   "source": [
    "# 7. LightGBM"
   ]
  },
  {
   "cell_type": "code",
   "execution_count": 1,
   "metadata": {},
   "outputs": [
    {
     "name": "stdout",
     "output_type": "stream",
     "text": [
      "[1]\tvalid_0's binary_logloss: 0.565079\n",
      "Training until validation scores don't improve for 100 rounds\n",
      "[2]\tvalid_0's binary_logloss: 0.507451\n",
      "[3]\tvalid_0's binary_logloss: 0.458489\n",
      "[4]\tvalid_0's binary_logloss: 0.417481\n",
      "[5]\tvalid_0's binary_logloss: 0.385507\n",
      "[6]\tvalid_0's binary_logloss: 0.355773\n",
      "[7]\tvalid_0's binary_logloss: 0.329587\n",
      "[8]\tvalid_0's binary_logloss: 0.308478\n",
      "[9]\tvalid_0's binary_logloss: 0.285395\n",
      "[10]\tvalid_0's binary_logloss: 0.267055\n",
      "[11]\tvalid_0's binary_logloss: 0.252013\n",
      "[12]\tvalid_0's binary_logloss: 0.237018\n",
      "[13]\tvalid_0's binary_logloss: 0.224756\n",
      "[14]\tvalid_0's binary_logloss: 0.213383\n",
      "[15]\tvalid_0's binary_logloss: 0.203058\n",
      "[16]\tvalid_0's binary_logloss: 0.194015\n",
      "[17]\tvalid_0's binary_logloss: 0.186412\n",
      "[18]\tvalid_0's binary_logloss: 0.179108\n",
      "[19]\tvalid_0's binary_logloss: 0.174004\n",
      "[20]\tvalid_0's binary_logloss: 0.167155\n",
      "[21]\tvalid_0's binary_logloss: 0.162494\n",
      "[22]\tvalid_0's binary_logloss: 0.156886\n",
      "[23]\tvalid_0's binary_logloss: 0.152855\n",
      "[24]\tvalid_0's binary_logloss: 0.151113\n",
      "[25]\tvalid_0's binary_logloss: 0.148395\n",
      "[26]\tvalid_0's binary_logloss: 0.145869\n",
      "[27]\tvalid_0's binary_logloss: 0.143036\n",
      "[28]\tvalid_0's binary_logloss: 0.14033\n",
      "[29]\tvalid_0's binary_logloss: 0.139609\n",
      "[30]\tvalid_0's binary_logloss: 0.136109\n",
      "[31]\tvalid_0's binary_logloss: 0.134867\n",
      "[32]\tvalid_0's binary_logloss: 0.134729\n",
      "[33]\tvalid_0's binary_logloss: 0.1311\n",
      "[34]\tvalid_0's binary_logloss: 0.131143\n",
      "[35]\tvalid_0's binary_logloss: 0.129435\n",
      "[36]\tvalid_0's binary_logloss: 0.128474\n",
      "[37]\tvalid_0's binary_logloss: 0.126683\n",
      "[38]\tvalid_0's binary_logloss: 0.126112\n",
      "[39]\tvalid_0's binary_logloss: 0.122831\n",
      "[40]\tvalid_0's binary_logloss: 0.123162\n",
      "[41]\tvalid_0's binary_logloss: 0.125592\n",
      "[42]\tvalid_0's binary_logloss: 0.128293\n",
      "[43]\tvalid_0's binary_logloss: 0.128123\n",
      "[44]\tvalid_0's binary_logloss: 0.12789\n",
      "[45]\tvalid_0's binary_logloss: 0.122818\n",
      "[46]\tvalid_0's binary_logloss: 0.12496\n",
      "[47]\tvalid_0's binary_logloss: 0.125578\n",
      "[48]\tvalid_0's binary_logloss: 0.127381\n",
      "[49]\tvalid_0's binary_logloss: 0.128349\n",
      "[50]\tvalid_0's binary_logloss: 0.127004\n",
      "[51]\tvalid_0's binary_logloss: 0.130288\n",
      "[52]\tvalid_0's binary_logloss: 0.131362\n",
      "[53]\tvalid_0's binary_logloss: 0.133363\n",
      "[54]\tvalid_0's binary_logloss: 0.1332\n",
      "[55]\tvalid_0's binary_logloss: 0.134543\n",
      "[56]\tvalid_0's binary_logloss: 0.130803\n",
      "[57]\tvalid_0's binary_logloss: 0.130306\n",
      "[58]\tvalid_0's binary_logloss: 0.132514\n",
      "[59]\tvalid_0's binary_logloss: 0.133278\n",
      "[60]\tvalid_0's binary_logloss: 0.134804\n",
      "[61]\tvalid_0's binary_logloss: 0.136888\n",
      "[62]\tvalid_0's binary_logloss: 0.138745\n",
      "[63]\tvalid_0's binary_logloss: 0.140497\n",
      "[64]\tvalid_0's binary_logloss: 0.141368\n",
      "[65]\tvalid_0's binary_logloss: 0.140764\n",
      "[66]\tvalid_0's binary_logloss: 0.14348\n",
      "[67]\tvalid_0's binary_logloss: 0.143418\n",
      "[68]\tvalid_0's binary_logloss: 0.143682\n",
      "[69]\tvalid_0's binary_logloss: 0.145076\n",
      "[70]\tvalid_0's binary_logloss: 0.14686\n",
      "[71]\tvalid_0's binary_logloss: 0.148051\n",
      "[72]\tvalid_0's binary_logloss: 0.147664\n",
      "[73]\tvalid_0's binary_logloss: 0.149478\n",
      "[74]\tvalid_0's binary_logloss: 0.14708\n",
      "[75]\tvalid_0's binary_logloss: 0.14545\n",
      "[76]\tvalid_0's binary_logloss: 0.148767\n",
      "[77]\tvalid_0's binary_logloss: 0.149959\n",
      "[78]\tvalid_0's binary_logloss: 0.146083\n",
      "[79]\tvalid_0's binary_logloss: 0.14638\n",
      "[80]\tvalid_0's binary_logloss: 0.148461\n",
      "[81]\tvalid_0's binary_logloss: 0.15091\n",
      "[82]\tvalid_0's binary_logloss: 0.153011\n",
      "[83]\tvalid_0's binary_logloss: 0.154807\n",
      "[84]\tvalid_0's binary_logloss: 0.156501\n",
      "[85]\tvalid_0's binary_logloss: 0.158586\n",
      "[86]\tvalid_0's binary_logloss: 0.159819\n",
      "[87]\tvalid_0's binary_logloss: 0.161745\n",
      "[88]\tvalid_0's binary_logloss: 0.162829\n",
      "[89]\tvalid_0's binary_logloss: 0.159142\n",
      "[90]\tvalid_0's binary_logloss: 0.156765\n",
      "[91]\tvalid_0's binary_logloss: 0.158625\n",
      "[92]\tvalid_0's binary_logloss: 0.156832\n",
      "[93]\tvalid_0's binary_logloss: 0.154616\n",
      "[94]\tvalid_0's binary_logloss: 0.154263\n",
      "[95]\tvalid_0's binary_logloss: 0.157156\n",
      "[96]\tvalid_0's binary_logloss: 0.158617\n",
      "[97]\tvalid_0's binary_logloss: 0.157495\n",
      "[98]\tvalid_0's binary_logloss: 0.159413\n",
      "[99]\tvalid_0's binary_logloss: 0.15847\n",
      "[100]\tvalid_0's binary_logloss: 0.160746\n",
      "[101]\tvalid_0's binary_logloss: 0.16217\n",
      "[102]\tvalid_0's binary_logloss: 0.165293\n",
      "[103]\tvalid_0's binary_logloss: 0.164749\n",
      "[104]\tvalid_0's binary_logloss: 0.167097\n",
      "[105]\tvalid_0's binary_logloss: 0.167697\n",
      "[106]\tvalid_0's binary_logloss: 0.169462\n",
      "[107]\tvalid_0's binary_logloss: 0.169947\n",
      "[108]\tvalid_0's binary_logloss: 0.171\n",
      "[109]\tvalid_0's binary_logloss: 0.16907\n",
      "[110]\tvalid_0's binary_logloss: 0.169521\n",
      "[111]\tvalid_0's binary_logloss: 0.167719\n",
      "[112]\tvalid_0's binary_logloss: 0.166648\n",
      "[113]\tvalid_0's binary_logloss: 0.169053\n",
      "[114]\tvalid_0's binary_logloss: 0.169613\n",
      "[115]\tvalid_0's binary_logloss: 0.170059\n",
      "[116]\tvalid_0's binary_logloss: 0.1723\n",
      "[117]\tvalid_0's binary_logloss: 0.174733\n",
      "[118]\tvalid_0's binary_logloss: 0.173526\n",
      "[119]\tvalid_0's binary_logloss: 0.1751\n",
      "[120]\tvalid_0's binary_logloss: 0.178254\n",
      "[121]\tvalid_0's binary_logloss: 0.182968\n",
      "[122]\tvalid_0's binary_logloss: 0.179017\n",
      "[123]\tvalid_0's binary_logloss: 0.178326\n",
      "[124]\tvalid_0's binary_logloss: 0.177149\n",
      "[125]\tvalid_0's binary_logloss: 0.179171\n",
      "[126]\tvalid_0's binary_logloss: 0.180948\n",
      "[127]\tvalid_0's binary_logloss: 0.183861\n",
      "[128]\tvalid_0's binary_logloss: 0.187579\n",
      "[129]\tvalid_0's binary_logloss: 0.188122\n",
      "[130]\tvalid_0's binary_logloss: 0.1857\n",
      "[131]\tvalid_0's binary_logloss: 0.187442\n",
      "[132]\tvalid_0's binary_logloss: 0.188578\n",
      "[133]\tvalid_0's binary_logloss: 0.189729\n",
      "[134]\tvalid_0's binary_logloss: 0.187313\n",
      "[135]\tvalid_0's binary_logloss: 0.189279\n",
      "[136]\tvalid_0's binary_logloss: 0.191068\n",
      "[137]\tvalid_0's binary_logloss: 0.192414\n",
      "[138]\tvalid_0's binary_logloss: 0.191255\n",
      "[139]\tvalid_0's binary_logloss: 0.193453\n",
      "[140]\tvalid_0's binary_logloss: 0.196969\n",
      "[141]\tvalid_0's binary_logloss: 0.196378\n",
      "[142]\tvalid_0's binary_logloss: 0.196367\n",
      "[143]\tvalid_0's binary_logloss: 0.19869\n",
      "[144]\tvalid_0's binary_logloss: 0.200352\n",
      "[145]\tvalid_0's binary_logloss: 0.19712\n",
      "Early stopping, best iteration is:\n",
      "[45]\tvalid_0's binary_logloss: 0.122818\n"
     ]
    }
   ],
   "source": [
    "from lightgbm import LGBMClassifier\n",
    "\n",
    "import pandas as pd\n",
    "import numpy as np\n",
    "from sklearn.datasets import load_breast_cancer\n",
    "from sklearn.model_selection import train_test_split\n",
    "\n",
    "dataset=load_breast_cancer()\n",
    "ftr=dataset.data\n",
    "target=dataset.target\n",
    "\n",
    "X_train, X_test, y_train, y_test = train_test_split(ftr, target, test_size=0.2, random_state=156)\n",
    "\n",
    "lgbm_wrapper = LGBMClassifier(n_estimators=400)\n",
    "\n",
    "evals=[(X_test, y_test)]\n",
    "lgbm_wrapper.fit(X_train, y_train, early_stopping_rounds=100, eval_metric=\"logloss\", eval_set=evals, verbose=True)\n",
    "preds=lgbm_wrapper.predict(X_test)\n",
    "pred_proba=lgbm_wrapper.predict_proba(X_test)[:,1]"
   ]
  },
  {
   "cell_type": "code",
   "execution_count": 4,
   "metadata": {},
   "outputs": [
    {
     "name": "stdout",
     "output_type": "stream",
     "text": [
      "오차 행렬\n",
      "[[33  4]\n",
      " [ 1 76]]\n",
      "정확도: 0.9561, 정밀도: 0.9500, 재현율: 0.9870,    F1: 0.9682, AUC:0.9905\n"
     ]
    }
   ],
   "source": [
    "get_clf_eval(y_test, preds, pred_proba)"
   ]
  },
  {
   "cell_type": "code",
   "execution_count": 5,
   "metadata": {},
   "outputs": [
    {
     "data": {
      "text/plain": [
       "<matplotlib.axes._subplots.AxesSubplot at 0x29fb190c308>"
      ]
     },
     "execution_count": 5,
     "metadata": {},
     "output_type": "execute_result"
    },
    {
     "data": {
      "image/png": "[encoded data removed]",
      "text/plain": [
       "<Figure size 720x864 with 1 Axes>"
      ]
     },
     "metadata": {
      "needs_background": "light"
     },
     "output_type": "display_data"
    }
   ],
   "source": [
    "#시각화\n",
    "from lightgbm import plot_importance\n",
    "import matplotlib.pyplot as plt\n",
    "%matplotlib inline\n",
    "\n",
    "fig, ax=plt.subplots(figsize=(10,12))\n",
    "plot_importance(lgbm_wrapper, ax=ax)"
   ]
  }
 ],
 "metadata": {
  "kernelspec": {
   "display_name": "Python 3",
   "language": "python",
   "name": "python3"
  },
  "language_info": {
   "codemirror_mode": {
    "name": "ipython",
    "version": 3
   },
   "file_extension": ".py",
   "mimetype": "text/x-python",
   "name": "python",
   "nbconvert_exporter": "python",
   "pygments_lexer": "ipython3",
   "version": "3.7.6"
  }
 },
 "nbformat": 4,
 "nbformat_minor": 5
}
